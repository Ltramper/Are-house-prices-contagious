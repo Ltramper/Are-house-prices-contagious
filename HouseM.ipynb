{
 "cells": [
  {
   "cell_type": "code",
   "execution_count": 2,
   "metadata": {
    "scrolled": true
   },
   "outputs": [],
   "source": [
    "#Imports\n",
    "import json\n",
    "from json import load\n",
    "from datetime import datetime\n",
    "from dateutil.relativedelta import relativedelta \n",
    "import pandas as pd\n",
    "\n",
    " #BOKEH!!\n",
    "from bokeh.io import output_file, output_notebook, show\n",
    "from bokeh.models import (\n",
    "    GMapPlot, GMapOptions, ColumnDataSource, Circle, LogColorMapper, BasicTicker, ColorBar,\n",
    "    DataRange1d, PanTool, WheelZoomTool, BoxSelectTool, Range1d\n",
    "    )\n",
    "from bokeh.models.mappers import ColorMapper, LinearColorMapper\n",
    "from bokeh.palettes import RdYlGn7\n",
    "from bokeh.io import export_png\n",
    "\n",
    "data = pd.read_json('amsterdam_sold2.json', orient='records')\n",
    "pp = pd.read_csv('geopost.csv')\n",
    "keys = pd.read_json('Keys.json', orient='records')"
   ]
  },
  {
   "cell_type": "code",
   "execution_count": 3,
   "metadata": {},
   "outputs": [],
   "source": [
    "#Filling variable with api keys from Keys.json\n",
    "gmaps_keys = keys\n",
    "gmaps_keys = gmaps_keys['key']\n",
    "\n",
    "gmaps_key_lat_lon = gmaps_keys[0]\n",
    "gmaps_key_bokeh = gmaps_keys[1]"
   ]
  },
  {
   "cell_type": "code",
   "execution_count": 4,
   "metadata": {
    "scrolled": true
   },
   "outputs": [],
   "source": [
    "#Data correction for values that are below certain price\n",
    "datacorrect = data\n",
    "datacorrect = datacorrect.sort_values(by=['price'])\n",
    "datacorrect2 = datacorrect[datacorrect.price > 5000]\n",
    "\n",
    "#Check the data\n",
    "#export_csv = datacheck.to_csv (r'C:\\Users\\tramp\\Documents\\Python_project_houseM\\datacheck.csv', index = None, header=True) "
   ]
  },
  {
   "cell_type": "code",
   "execution_count": 5,
   "metadata": {},
   "outputs": [],
   "source": [
    "#Filling DF with the values needed\n",
    "processed_data = pd.DataFrame()\n",
    "processed_data['gem4'] = datacorrect2['price'] / datacorrect2['area']\n",
    "processed_data['postcode'] = datacorrect2['postal_code']\n",
    "processed_data['adres'] = datacorrect2['address']\n",
    "processed_data['plaats_dt'] = datacorrect2['posting_date']\n",
    "processed_data['verkoop_dt'] = datacorrect2['sale_date']\n",
    "processed_data['oppervlakte'] = datacorrect2['area']\n",
    "processed_data['bouwjaar'] = datacorrect2['year_built']\n",
    "processed_data['prijs'] = datacorrect2['price'] \n",
    "\n",
    "processed_pp = pd.DataFrame()\n",
    "processed_pp['adres'] = pp['address']\n",
    "processed_pp['latitude'] = pp['LAT']\n",
    "processed_pp['longitude'] = pp['LON']\n",
    "\n",
    "\n",
    "# Sort, Merge and Combine so that Google Geolocation can handle it\n",
    "processed_data[\"adres\"] = processed_data[\"adres\"] + \" \" + processed_data[\"postcode\"]\n",
    "processed_data_pp = pd.merge(processed_data, processed_pp, on='adres', how='inner')\n",
    "processed_data_pp\n",
    "processed_data_pp['plaats_dt'] =  pd.to_datetime(processed_data_pp['plaats_dt'], format='%d-%m-%Y')\n",
    "processed_data_pp = processed_data_pp.sort_values(by=['plaats_dt'])"
   ]
  },
  {
   "cell_type": "code",
   "execution_count": 6,
   "metadata": {},
   "outputs": [],
   "source": [
    "#Google Geolocation address [adres] to longitude [lon] and latitude [lat]\n",
    "\n",
    "#geopost = pd.DataFrame()\n",
    "#geoposttop = pd.DataFrame()\n",
    "#geocode_result = pd.DataFrame()\n",
    "#geo = pd.DataFrame()\n",
    "\n",
    "#geo = data\n",
    "#geocode_result = pd.DataFrame()\n",
    "\n",
    "\n",
    "#geopost[\"address\"] = geo[\"address\"] + \" \" + geo[\"postal_code\"]\n",
    "# geopost = geopost.head() testing purpose\n",
    "#geopost"
   ]
  },
  {
   "cell_type": "code",
   "execution_count": 7,
   "metadata": {},
   "outputs": [],
   "source": [
    "#import googlemaps\n",
    "\n",
    "#gmaps_key = googlemaps.Client(key = gmaps_key_lat_lon)\n",
    "\n",
    "#geopost[\"LAT\"] = None\n",
    "#geopost[\"LON\"] = None\n",
    "\n",
    "#for i in range(0, len(geopost), 1):\n",
    "#    geocode_result = gmaps_key.geocode(geopost.iat[i,0])\n",
    "#    try:\n",
    "#        lat = geocode_result[0][\"geometry\"]['location'][\"lat\"]\n",
    "#        lon = geocode_result[0][\"geometry\"]['location'][\"lng\"]\n",
    "#        geopost.iat[i, geopost.columns.get_loc(\"LAT\")] = lat\n",
    "#        geopost.iat[i, geopost.columns.get_loc(\"LON\")] = lon \n",
    "#    except:\n",
    "#        lat = None\n",
    "#        lon = None\n",
    "\n",
    "#geopost\n",
    "#geopost.to_csv('geopost.csv')\n",
    "        "
   ]
  },
  {
   "cell_type": "code",
   "execution_count": 13,
   "metadata": {},
   "outputs": [
    {
     "name": "stdout",
     "output_type": "stream",
     "text": [
      "1\n",
      "2\n",
      "3\n",
      "4\n",
      "5\n"
     ]
    }
   ],
   "source": [
    "#A loop so that an image can be made per unit of time. \n",
    "#Every image can be converted to a GIF format via an external application.\n",
    "\n",
    "\n",
    "pngteller = 0\n",
    "teller = 1\n",
    "for _ in range(5):\n",
    "    \n",
    "    intervalmin = 1\n",
    "    intervalmax = intervalmin+ teller\n",
    "\n",
    "\n",
    "\n",
    "    datefrommin = processed_data_pp['plaats_dt'].min()\n",
    "    #the unit of time can be defined here\n",
    "    datefrommax = datefrommin+ relativedelta(months=intervalmax)\n",
    "\n",
    "    processed_data_pp2 = processed_data_pp[processed_data_pp.plaats_dt > datefrommin]\n",
    "    processed_data_pp2 = processed_data_pp[processed_data_pp.plaats_dt < datefrommax] \n",
    "    datestamp = str(datefrommax)\n",
    "   \n",
    "\n",
    "\n",
    "    map_options = GMapOptions(lat=52.370216, lng=4.895168, map_type=\"roadmap\", zoom=11)\n",
    "    plot = GMapPlot(\n",
    "        x_range=Range1d(), y_range=Range1d(), map_options=map_options\n",
    "    )\n",
    "    plot.title.text = \"Huizen prijzen per m4 op \"+datestamp\n",
    "\n",
    "    # For GMaps to function, Google requires you obtain and enable an API key:\n",
    "    #\n",
    "    #     https://developers.google.com/maps/documentation/javascript/get-api-key\n",
    "    #\n",
    "    # Replace the value below with your personal API key:\n",
    "    plot.api_key = gmaps_key_bokeh\n",
    "    \n",
    "    source = ColumnDataSource(\n",
    "        data=dict(\n",
    "            lat=processed_data_pp2.latitude.tolist(),\n",
    "            lon=processed_data_pp2.longitude.tolist(),\n",
    "            color=processed_data_pp2.gem4.tolist()\n",
    "        )\n",
    "    )\n",
    "\n",
    "    max_median_house_value = processed_data_pp.loc[processed_data_pp['gem4'].idxmax()]['gem4']\n",
    "    min_median_house_value = processed_data_pp.loc[processed_data_pp['gem4'].idxmin()]['gem4']\n",
    "\n",
    "\n",
    "    color_mapper = LogColorMapper(palette=RdYlGn7, low=min_median_house_value, high=max_median_house_value)\n",
    "\n",
    "\n",
    "    circle = Circle(x=\"lon\", y=\"lat\", size=5, fill_color={'field': 'color', 'transform': color_mapper}, fill_alpha=0.75, line_color=None)\n",
    "    plot.add_glyph(source, circle)\n",
    "\n",
    "    color_bar = ColorBar(color_mapper=color_mapper, ticker=BasicTicker(),\n",
    "                         label_standoff=12, border_line_color=None, location=(0,0))\n",
    "    plot.add_layout(color_bar, 'right')\n",
    "\n",
    "    plot.add_tools(PanTool(), WheelZoomTool(), BoxSelectTool())\n",
    "\n",
    "    #output_file(\"gmap_plot.html\")\n",
    "    #output_notebook()\n",
    "    #show(plot)\n",
    "    \n",
    "    #selium is needed for a PNG output    \n",
    "    pngteller = int(pngteller)\n",
    "    pngteller = pngteller + 1\n",
    "    pngteller = str(pngteller)\n",
    "\n",
    "    export_png(plot, filename=\"plot\"+pngteller+\".png\")\n",
    "    print (teller)\n",
    "    teller = teller + 1"
   ]
  },
  {
   "cell_type": "code",
   "execution_count": null,
   "metadata": {},
   "outputs": [],
   "source": []
  }
 ],
 "metadata": {
  "kernelspec": {
   "display_name": "Python 3",
   "language": "python",
   "name": "python3"
  },
  "language_info": {
   "codemirror_mode": {
    "name": "ipython",
    "version": 3
   },
   "file_extension": ".py",
   "mimetype": "text/x-python",
   "name": "python",
   "nbconvert_exporter": "python",
   "pygments_lexer": "ipython3",
   "version": "3.7.3"
  }
 },
 "nbformat": 4,
 "nbformat_minor": 2
}
